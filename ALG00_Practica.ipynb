{
 "cells": [
  {
   "cell_type": "markdown",
   "metadata": {},
   "source": [
    "# Práctica"
   ]
  },
  {
   "cell_type": "markdown",
   "metadata": {},
   "source": [
    "## 1. La conjetura de Collatz\n",
    "\n",
    "Escribir un procedimiento en Python que implemente el mecanismo de la conjetura de Collatz para cualquier número entero positivo."
   ]
  },
  {
   "cell_type": "code",
   "execution_count": 1,
   "metadata": {},
   "outputs": [
    {
     "name": "stdout",
     "output_type": "stream",
     "text": [
      "100\n",
      "50.0\n",
      "25.0\n",
      "76.0\n",
      "38.0\n",
      "19.0\n",
      "58.0\n",
      "29.0\n",
      "88.0\n",
      "44.0\n",
      "22.0\n",
      "11.0\n",
      "34.0\n",
      "17.0\n",
      "52.0\n",
      "26.0\n",
      "13.0\n",
      "40.0\n",
      "20.0\n",
      "10.0\n",
      "5.0\n",
      "16.0\n",
      "8.0\n",
      "4.0\n",
      "2.0\n",
      "1.0\n"
     ]
    }
   ],
   "source": [
    "def collazt(x):\n",
    "    while x != 1:\n",
    "        if x % 2 == 0:\n",
    "            x = x / 2\n",
    "        else:\n",
    "            x = x * 3 + 1\n",
    "            \n",
    "        print(x)\n",
    "    \n",
    "collazt(33)"
   ]
  },
  {
   "cell_type": "markdown",
   "metadata": {},
   "source": [
    "## 2. El secreto perfecto\n",
    "\n",
    "Representa la encriptación de la adicción de un n-vector a un n-vector de GF(2)  \n",
    "\n",
    "<img src=\"Images/mortadelo-filemon.jpg\" style=\"width: 300px;\"/>\n",
    "\n",
    "Mortadelo y Filemón usan como clave el siguiente vector:  \n",
    "**k**=[0,1,0,0,1,0,1,0,1,0] \n",
    "\n",
    "Mortadelo quiere enviarle a Filemón el siguiente mensaje:  \n",
    "**p**=[0,0,0,1,1,1,0,1,0,1] \n",
    "\n",
    "Mortadelo encripta su mensaje añadiendo k: \n",
    "**c**=**p**+**k**=[0,0,0,1,1,1,0,1,0,1]+[0,1,0,0,1,0,1,0,1,0]=[0,1,0,1,0,1,1,1,1,1] \n",
    "\n",
    "Cuando Filemón recibe el mensaje, lo desencripta añadiendo **k** a lo que ha recibido \n",
    "**p**=**c**+**k**=[0,1,0,1,0,1,1,1,1,1]+[0,1,0,0,1,0,1,0,1,0]=[0,0,0,1,1,1,0,1,0,1]    \n",
    "\n",
    "que es el mensaje original.\n",
    "\n",
    "La idea es crear un procedimiento para que Filemón:\n",
    "* No tenga que hacer este proceso manualmente cada vez que Mortadelo le envíe un mensaje encriptado para descifrarlo\n",
    "* Si deciden cambiar la clave, que el procedimiento cambie mínimamente\n",
    "\n",
    "  \n"
   ]
  },
  {
   "cell_type": "code",
   "execution_count": 4,
   "metadata": {},
   "outputs": [
    {
     "name": "stdout",
     "output_type": "stream",
     "text": [
      "[0, 1, 0, 1, 0, 1, 1, 1, 1, 1]\n",
      "[0, 0, 0, 1, 1, 1, 0, 1, 0, 1]\n"
     ]
    }
   ],
   "source": [
    "def descifrar(c, k = (0,1,0,0,1,0,1,0,1,0)):\n",
    "    return[(c[i] + k[i]) % 2 for i in range(len(k))]\n",
    "\n",
    "print(descifrar([0,0,0,1,1,1,0,1,0,1]))\n",
    "print(descifrar([0,1,0,1,0,1,1,1,1,1]))"
   ]
  },
  {
   "cell_type": "markdown",
   "metadata": {},
   "source": [
    "## 3. ¿Cuánto cuesta hacer una cerveza?\n",
    "\n",
    "<img src=\"Images/cerveza.jpg\" style=\"width: 300px;\"/>\n",
    "\n",
    "Supongamos que D es el conjunto de algunos ingredientes de la cerveza: \n",
    "> D={lúpulo, malta, agua, levadura} \n",
    "\n",
    "Por otro lado tenemos el vector coste:\n",
    "> coste={lúpulo: 2,5€, malta: 1.5€, agua: 0.006€, levadura: 0,45€}  \n",
    "\n",
    "Por último tenemos el vector cantidad con lo necesario para hacer una cerveza:\n",
    "> cantidad={lúpulo: 6u, malta: 14u, agua: 7u, levadura: 11u} \n",
    "\n",
    "¿Cuánto cuesta hacer una cerveza?"
   ]
  },
  {
   "cell_type": "code",
   "execution_count": 14,
   "metadata": {},
   "outputs": [
    {
     "name": "stdout",
     "output_type": "stream",
     "text": [
      "Cuesta hacer una cerveza 40.992000000000004\n"
     ]
    }
   ],
   "source": [
    "import numpy as np\n",
    "\n",
    "costos = [2.5,1.5,0.006,0.45]\n",
    "cantidades = [6,14,7,11]\n",
    "\n",
    "coste = sum(costos[i] * cantidades[i] for i in range(len(costos)))\n",
    "print(\"Cuesta hacer una cerveza\", coste)"
   ]
  },
  {
   "cell_type": "markdown",
   "metadata": {},
   "source": [
    "## 4. La carrera de caballos\n",
    "\n",
    "Tres caballos A, B y C compiten en una carrera.  \n",
    "Las apuestas para dar como vencedor a cada uno de ellos son de 4 a 1 para A, 3 a 1 para B y 2 a 1 para C, tomando las unidades siempre en euros.  \n",
    "¿Cuántop debo apostar por cada caballo para asegurarme recibir 13 euros en toal, sin importar qué csaballo gane la carrera?"
   ]
  },
  {
   "cell_type": "markdown",
   "metadata": {},
   "source": [
    "Sean x,y,z el dinero apostado por los caballos A, B y C respectivamente.\n",
    "El objetivo del problema escalcular la cantidad que debe apostarse por cada caballo de forma que la suma del dinero recibido y perdido en ñas apuestas sea siempre igual a 13€.  \n",
    "Así, podemos plantear un sistema de tres ecuaciones con tres incógnitas, en el que igualaremos matemáticamente la cantidad percibida por la victoria de los caballos A, B, C y, al mismo tiempo, señalaremos que esta cantidad corresponde a 13€.  \n",
    "\n",
    "> 4x-y-z=3y-x-z  \n",
    "> 3y-x-z=2z-x-y  \n",
    "> 2z-x-y=13\n"
   ]
  },
  {
   "cell_type": "code",
   "execution_count": null,
   "metadata": {},
   "outputs": [],
   "source": []
  },
  {
   "cell_type": "markdown",
   "metadata": {},
   "source": [
    "## 5. Dimensión de matrices\n",
    "\n",
    "Sea la matriz $\n",
    "  M=\n",
    "  \\left[ {\\begin{array}{cc}\n",
    "   1 & 0  & 0 & 5 \\\\\n",
    "   0 & 2  & 0 & 7 \\\\\n",
    "   0 & 0  & 3 & 9 \\\\\n",
    "  \\end{array} } \\right]\n",
    "$. Calcular el rango por filas y por columnas usando Python."
   ]
  },
  {
   "cell_type": "code",
   "execution_count": 6,
   "metadata": {},
   "outputs": [
    {
     "name": "stdout",
     "output_type": "stream",
     "text": [
      "El rango de la matriz es 3\n"
     ]
    }
   ],
   "source": [
    "import numpy as np\n",
    "M = np.matrix([\n",
    "   [1,0,0,5],\n",
    "   [0,2,0,7],\n",
    "   [0,0,3,9]\n",
    "   ])\n",
    "\n",
    "print(\"El rango de la matriz por filas es\", np.linalg.matrix_rank(M))"
   ]
  },
  {
   "cell_type": "code",
   "execution_count": 7,
   "metadata": {},
   "outputs": [
    {
     "name": "stdout",
     "output_type": "stream",
     "text": [
      "El rango de la matriz por columnas es 3\n"
     ]
    }
   ],
   "source": [
    "print(\"El rango de la matriz por columnas es\", np.linalg.matrix_rank(np.transpose(M)))"
   ]
  },
  {
   "cell_type": "markdown",
   "metadata": {},
   "source": [
    "## 6. Bosque de extensión mínima\n",
    "\n",
    "<img src=\"Images/bosque.png\" style=\"width: 800px;\"/>\n",
    "\n",
    "En clase hemos hecho el caso del grafo de la derecha. Le toca el turno al de la izquierda.\n",
    "Supongamos que queremos diseñar la red de internet para el otro campus universitario.  \n",
    "La red debe lograr la misma conectividad que el grafo de entrada.  \n",
    "Una arista representa un posible cable.  \n",
    "El peso de la arista es el coste de instalar el cable.  \n",
    "Nuestro objetivo es minimizar el coste total, usando el algoritmo Grow y el algoritmo Shrink.\n",
    "Lo único que en este caso se pide crear un procedimiento para el algoritmo Grow y otro para el Shrink que lo hagan automáticamente una vez les metamos como parámetros las aristas y sus pesos"
   ]
  },
  {
   "cell_type": "code",
   "execution_count": null,
   "metadata": {},
   "outputs": [],
   "source": []
  },
  {
   "cell_type": "code",
   "execution_count": null,
   "metadata": {},
   "outputs": [],
   "source": []
  },
  {
   "cell_type": "code",
   "execution_count": null,
   "metadata": {},
   "outputs": [],
   "source": []
  }
 ],
 "metadata": {
  "kernelspec": {
   "display_name": "Python 3",
   "language": "python",
   "name": "python3"
  },
  "language_info": {
   "codemirror_mode": {
    "name": "ipython",
    "version": 3
   },
   "file_extension": ".py",
   "mimetype": "text/x-python",
   "name": "python",
   "nbconvert_exporter": "python",
   "pygments_lexer": "ipython3",
   "version": "3.6.5"
  }
 },
 "nbformat": 4,
 "nbformat_minor": 2
}
